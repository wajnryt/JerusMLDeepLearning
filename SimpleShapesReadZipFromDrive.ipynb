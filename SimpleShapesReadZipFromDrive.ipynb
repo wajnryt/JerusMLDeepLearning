{
  "nbformat": 4,
  "nbformat_minor": 0,
  "metadata": {
    "colab": {
      "name": "JerusMLSimpleShapesNetwork.ipynb",
      "version": "0.3.2",
      "provenance": [],
      "collapsed_sections": [],
      "include_colab_link": true
    },
    "kernelspec": {
      "name": "python3",
      "display_name": "Python 3"
    }
  },
  "cells": [
    {
      "cell_type": "markdown",
      "metadata": {
        "id": "view-in-github",
        "colab_type": "text"
      },
      "source": [
        "<a href=\"https://colab.research.google.com/github/wajnryt/JerusMLDeepLearning2019/blob/master/SimpleShapesReadZipFromDrive.ipynb\" target=\"_parent\"><img src=\"https://colab.research.google.com/assets/colab-badge.svg\" alt=\"Open In Colab\"/></a>"
      ]
    },
    {
      "cell_type": "code",
      "metadata": {
        "id": "28F978LNSapE",
        "colab_type": "code",
        "outputId": "0962802d-cbc2-4e5a-b65a-2f2afc79d6b1",
        "colab": {
          "base_uri": "https://localhost:8080/",
          "height": 34
        }
      },
      "source": [
        "from google.colab import drive\n",
        "drive.mount(\"/content/JerusML\", force_remount=True)\n",
        "!unzip \"/content/JerusML/My Drive/dataset\""
      ],
      "execution_count": 5,
      "outputs": [
        {
          "output_type": "stream",
          "text": [
            "Mounted at /content/JerusML\n"
          ],
          "name": "stdout"
        }
      ]
    },
    {
      "cell_type": "code",
      "metadata": {
        "id": "BG2ouHn8RHwO",
        "colab_type": "code",
        "outputId": "85dfaeb7-0922-48a7-dc5c-a0a242f31297",
        "colab": {
          "base_uri": "https://localhost:8080/",
          "height": 67
        }
      },
      "source": [
        "from matplotlib import pyplot as plt\n",
        "import os\n",
        "import numpy as np\n",
        "import glob\n",
        "import cv2\n",
        "\n",
        "import os\n",
        "import torch\n",
        "import torch.nn as nn\n",
        "from torch.autograd import Variable\n",
        "import torchvision.datasets as dset\n",
        "import torchvision.transforms as transforms\n",
        "import torch.nn.functional as F\n",
        "import torch.optim as optim\n",
        "\n",
        "#!ls \"/content/JerusML/My Drive/dataset/circles\"\n",
        "#!load circles\n",
        "input_path = \"circles/\"\n",
        "circles = []\n",
        "circlesLabels = []\n",
        "print (len(os.listdir(input_path)))\n",
        "count = 1\n",
        "for filename in os.listdir(input_path):\n",
        "  image = cv2.imread(input_path + filename)\n",
        "  image = np.float32(image)\n",
        "  circles.append(image)\n",
        "  count = count + 1\n",
        "print(len(circles))\n",
        "\n",
        "if False:\n",
        "  #load rectangles\n",
        "  input_path = \"rectangles/\"\n",
        "  count = 1\n",
        "  rectangles = []\n",
        "  rectanglesLabels = []\n",
        "  print (len(os.listdir(input_path)))\n",
        "  for filename in os.listdir(input_path):\n",
        "    image = cv2.imread(input_path + filename)\n",
        "    image = np.float32(image)\n",
        "    rectangles.append(image)\n",
        "    count = count + 1\n",
        "  print(len(rectangles))\n",
        "\n",
        "  #load triangles\n",
        "  input_path = \"triangles/\"\n",
        "  count = 1\n",
        "  triangles = []\n",
        "  trianglesLabels = []\n",
        "  print (len(os.listdir(input_path)))\n",
        "  for filename in os.listdir(input_path):\n",
        "    image = cv2.imread(input_path + filename)\n",
        "    image = np.float32(image)\n",
        "    triangles.append(image)\n",
        "    count = count + 1\n",
        "  print(len(triangles))\n",
        "\n",
        "print('ok')\n",
        "  \n",
        "  "
      ],
      "execution_count": 12,
      "outputs": [
        {
          "output_type": "stream",
          "text": [
            "1001\n",
            "1001\n",
            "ok\n"
          ],
          "name": "stdout"
        }
      ]
    },
    {
      "cell_type": "code",
      "metadata": {
        "id": "gfze_SxfTPJY",
        "colab_type": "code",
        "colab": {}
      },
      "source": [
        "# Run this cell to mount your Google Drive.\n",
        "from google.colab import drive\n",
        "drive.mount('/content/drive')"
      ],
      "execution_count": 0,
      "outputs": []
    }
  ]
}