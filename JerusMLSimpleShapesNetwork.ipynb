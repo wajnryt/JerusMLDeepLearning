{
  "nbformat": 4,
  "nbformat_minor": 0,
  "metadata": {
    "colab": {
      "name": "JerusMLSimpleShapesNetwork.ipynb",
      "version": "0.3.2",
      "provenance": [],
      "collapsed_sections": [],
      "include_colab_link": true
    },
    "kernelspec": {
      "name": "python3",
      "display_name": "Python 3"
    }
  },
  "cells": [
    {
      "cell_type": "markdown",
      "metadata": {
        "id": "view-in-github",
        "colab_type": "text"
      },
      "source": [
        "<a href=\"https://colab.research.google.com/github/wajnryt/JerusMLDeepLearning2019/blob/master/JerusMLSimpleShapesNetwork.ipynb\" target=\"_parent\"><img src=\"https://colab.research.google.com/assets/colab-badge.svg\" alt=\"Open In Colab\"/></a>"
      ]
    },
    {
      "cell_type": "code",
      "metadata": {
        "id": "28F978LNSapE",
        "colab_type": "code",
        "outputId": "8bc3ee61-d295-4a90-8858-8c908664bd61",
        "colab": {
          "base_uri": "https://localhost:8080/",
          "height": 128
        }
      },
      "source": [
        "from google.colab import drive\n",
        "drive.mount(\"/content/JerusML\", force_remount=True)"
      ],
      "execution_count": 14,
      "outputs": [
        {
          "output_type": "stream",
          "text": [
            "Go to this URL in a browser: https://accounts.google.com/o/oauth2/auth?client_id=947318989803-6bn6qk8qdgf4n4g3pfee6491hc0brc4i.apps.googleusercontent.com&redirect_uri=urn%3Aietf%3Awg%3Aoauth%3A2.0%3Aoob&scope=email%20https%3A%2F%2Fwww.googleapis.com%2Fauth%2Fdocs.test%20https%3A%2F%2Fwww.googleapis.com%2Fauth%2Fdrive%20https%3A%2F%2Fwww.googleapis.com%2Fauth%2Fdrive.photos.readonly%20https%3A%2F%2Fwww.googleapis.com%2Fauth%2Fpeopleapi.readonly&response_type=code\n",
            "\n",
            "Enter your authorization code:\n",
            "··········\n",
            "Mounted at /content/JerusML\n"
          ],
          "name": "stdout"
        }
      ]
    },
    {
      "cell_type": "code",
      "metadata": {
        "id": "BG2ouHn8RHwO",
        "colab_type": "code",
        "outputId": "be0f177f-1a46-419e-fcfd-abd59537612c",
        "colab": {
          "base_uri": "https://localhost:8080/",
          "height": 72
        }
      },
      "source": [
        "from matplotlib import pyplot as plt\n",
        "import os\n",
        "import numpy as np\n",
        "import glob\n",
        "import cv2\n",
        "\n",
        "import os\n",
        "import torch\n",
        "import torch.nn as nn\n",
        "from torch.autograd import Variable\n",
        "import torchvision.datasets as dset\n",
        "import torchvision.transforms as transforms\n",
        "import torch.nn.functional as F\n",
        "import torch.optim as optim\n",
        "\n",
        "#!ls \"/content/JerusML/My Drive/JerusML/circles\"\n",
        "#load circles\n",
        "input_path = \"/content/JerusML/My Drive/JerusML/circles/\"\n",
        "circles = []\n",
        "circlesLabels = []\n",
        "print (len(os.listdir(input_path)))\n",
        "count = 1\n",
        "for filename in os.listdir(input_path):\n",
        "  image = cv2.imread(input_path + filename)\n",
        "  image = np.float32(image)\n",
        "  circles.append(image)\n",
        "  count = count + 1\n",
        "print(len(circles))\n",
        "\n",
        "if False:\n",
        "  #load rectangles\n",
        "  input_path = \"/content/JerusML/My Drive/JerusML/rectangles/\"\n",
        "  count = 1\n",
        "  rectangles = []\n",
        "  rectanglesLabels = []\n",
        "  print (len(os.listdir(input_path)))\n",
        "  for filename in os.listdir(input_path):\n",
        "    image = cv2.imread(input_path + filename)\n",
        "    image = np.float32(image)\n",
        "    rectangles.append(image)\n",
        "    count = count + 1\n",
        "  print(len(rectangles))\n",
        "\n",
        "  #load triangles\n",
        "  input_path = \"/content/JerusML/My Drive/JerusML/triangles/\"\n",
        "  count = 1\n",
        "  triangles = []\n",
        "  trianglesLabels = []\n",
        "  print (len(os.listdir(input_path)))\n",
        "  for filename in os.listdir(input_path):\n",
        "    image = cv2.imread(input_path + filename)\n",
        "    image = np.float32(image)\n",
        "    triangles.append(image)\n",
        "    count = count + 1\n",
        "  print(len(triangles))\n",
        "\n",
        "print('ok')\n",
        "  \n",
        "  "
      ],
      "execution_count": 68,
      "outputs": [
        {
          "output_type": "stream",
          "text": [
            "1001\n",
            "1001\n",
            "ok\n"
          ],
          "name": "stdout"
        }
      ]
    }
  ]
}